{
 "cells": [
  {
   "cell_type": "markdown",
   "metadata": {},
   "source": [
    "# Trabalho do curso ProbStat Probability and Statistics (Stanford University)\n",
    "https://lagunita.stanford.edu/courses/course-v1:OLI+ProbStat+Open_Jan2017/courseware/intro/big_picture/\n",
    "\n",
    "exercitando os conhecimentos adquiridos com a trilha **Data Scientist with Python** \n",
    "(https://www.datacamp.com/tracks/data-scientist-with-python) \n",
    "\n",
    "Marco Antunes (antunes73@hotmail.com) / linkedin.com/in/antunes73\n",
    "\n",
    "## StatTutor Lab: Treating Depression: A Randomized Clinical Trial\n",
    "\n",
    "#### Problem:\n",
    "**Background**: Clinical depression is a recurrent illness requiring treatment and often hospitalization. Nearly 50% of people who have an episode of major depression will have a recurrence within 2-3 years. Being able to prevent the recurrence of depression in people who are at risk for the disease would go a long way to alleviate the pain and suffering of patients and would also save society many thousands of dollars in medical expenses and lost wages due to an inability to work.\n",
    "\n",
    "**The Study**: During the 1980's the federal government, through the National Institutes of Health (NIH), sponsored a multi-centered, randomized, controlled, clinical trial to evaluate two drugs to prevent the recurrence of depression in patients who have had at least one previous episode of the illness (Prien et al., Archives of General Psychiatry, 1984). \n",
    "\n",
    "**The Study Design**: The study was multi-centered. There were 5 medical clinics in major metropolitan areas across the country that participated in this trial. Using many clinics enabled the investigators to enroll many more patients into the study and allowed for more diversity in the patients who participated. There were 3 treatment groups. Patients received either Imipramine (Imip), Lithium (Li), or a Placebo (Pl) where Imip and Li are active drugs. Patients were randomly assigned to one of the 3 treatment groups. Like most other medical studies where new, unexplored treatments are evaluated, patients chose themselves to participate in the study by signing a consent form. Patients were followed for 2-4 years to see whether or not they had a recurrence of depression. If they did not have a recurrence within this time frame, then their treatment was considered a Success. If they did have a recurrence, it was considered a Failure. The study was double-blinded. A number of additional background variables were measured for each patient.\n",
    "\n",
    "#### Questions to answer:\n",
    "Q1. Which of the drugs (if either) was more successful in preventing the recurrence of depression relative to the placebo?\n",
    "\n",
    "Q2. Which of the drugs (if either) delayed the recurrence of depression longer relative to the placebo?\n",
    "\n",
    "\n",
    "Antes de responder essas questões, vamos proceder com uma análise exploratória dos dados disponibilizados.\n",
    "\n",
    "        ### Passo 1 - Carregar os dados: depression2.xls\n",
    "      \n",
    "#### Variables: \n",
    "Hospt: Which hospital the patient was from: Labeled 1, 2, 3, 5 or 6\n",
    "Treat: 0=Lithium; 1=Imipramine; 2=Placebo\n",
    "Outcome: 0=Success 1=Failure (recurrence of depression)\n",
    "Time: Number of weeks until a recurrence (if outcome=1) or until study ended (if outcome=0)\n",
    "AcuteT: How long the patient was depressed before the start of the current study, measured in days\n",
    "Age: Age in years\n",
    "Gender: 1=Female 2=Male"
   ]
  },
  {
   "cell_type": "code",
   "execution_count": 1,
   "metadata": {
    "collapsed": true
   },
   "outputs": [],
   "source": [
    "import pandas as pd\n",
    "import numpy as np\n",
    "import matplotlib.pyplot as plt\n",
    "import seaborn as sns\n",
    "de = pd.read_excel(r\"c:\\temp\\depression2.xls\")"
   ]
  },
  {
   "cell_type": "markdown",
   "metadata": {},
   "source": [
    "      ### Passo 2 - Visually inspect"
   ]
  },
  {
   "cell_type": "code",
   "execution_count": 2,
   "metadata": {
    "collapsed": false
   },
   "outputs": [
    {
     "name": "stdout",
     "output_type": "stream",
     "text": [
      "<class 'pandas.core.frame.DataFrame'>\n",
      "RangeIndex: 109 entries, 0 to 108\n",
      "Data columns (total 7 columns):\n",
      "Hospt      109 non-null int64\n",
      "Treat      109 non-null int64\n",
      "Outcome    109 non-null int64\n",
      "Time       109 non-null float64\n",
      "AcuteT     109 non-null int64\n",
      "Age        109 non-null int64\n",
      "Gender     109 non-null int64\n",
      "dtypes: float64(1), int64(6)\n",
      "memory usage: 6.0 KB\n"
     ]
    }
   ],
   "source": [
    "de.info()"
   ]
  },
  {
   "cell_type": "markdown",
   "metadata": {},
   "source": [
    "Ok, sem problemas com nomes inconsistentes de colunas - pelo menos, aparentemente;\n",
    "Também não temos problemas com dados faltantes. Todas as colunas do dataset tem 109 registros... \n",
    "\n",
    "só por vias das dúvidas, vamos dar um 'assert' e nos garantir contra a presença de 'NaN's:"
   ]
  },
  {
   "cell_type": "code",
   "execution_count": 3,
   "metadata": {
    "collapsed": true
   },
   "outputs": [],
   "source": [
    "assert de.notnull().all().all()"
   ]
  },
  {
   "cell_type": "markdown",
   "metadata": {},
   "source": [
    "como o Python não \"cuspiu\" nenhum 'AssertionError' então significa que todo o nosso dataset está livre dessa praga.\n",
    "\n",
    "Agora vamos dar uma \"olhada\" nos dados:"
   ]
  },
  {
   "cell_type": "code",
   "execution_count": 4,
   "metadata": {
    "collapsed": false
   },
   "outputs": [
    {
     "data": {
      "text/html": [
       "<div>\n",
       "<table border=\"1\" class=\"dataframe\">\n",
       "  <thead>\n",
       "    <tr style=\"text-align: right;\">\n",
       "      <th></th>\n",
       "      <th>Hospt</th>\n",
       "      <th>Treat</th>\n",
       "      <th>Outcome</th>\n",
       "      <th>Time</th>\n",
       "      <th>AcuteT</th>\n",
       "      <th>Age</th>\n",
       "      <th>Gender</th>\n",
       "    </tr>\n",
       "  </thead>\n",
       "  <tbody>\n",
       "    <tr>\n",
       "      <th>0</th>\n",
       "      <td>1</td>\n",
       "      <td>0</td>\n",
       "      <td>1</td>\n",
       "      <td>36.143002</td>\n",
       "      <td>211</td>\n",
       "      <td>33</td>\n",
       "      <td>1</td>\n",
       "    </tr>\n",
       "    <tr>\n",
       "      <th>1</th>\n",
       "      <td>1</td>\n",
       "      <td>1</td>\n",
       "      <td>0</td>\n",
       "      <td>105.142998</td>\n",
       "      <td>176</td>\n",
       "      <td>49</td>\n",
       "      <td>1</td>\n",
       "    </tr>\n",
       "    <tr>\n",
       "      <th>2</th>\n",
       "      <td>1</td>\n",
       "      <td>1</td>\n",
       "      <td>0</td>\n",
       "      <td>74.570999</td>\n",
       "      <td>191</td>\n",
       "      <td>50</td>\n",
       "      <td>1</td>\n",
       "    </tr>\n",
       "    <tr>\n",
       "      <th>3</th>\n",
       "      <td>1</td>\n",
       "      <td>0</td>\n",
       "      <td>1</td>\n",
       "      <td>49.714001</td>\n",
       "      <td>206</td>\n",
       "      <td>29</td>\n",
       "      <td>2</td>\n",
       "    </tr>\n",
       "    <tr>\n",
       "      <th>4</th>\n",
       "      <td>1</td>\n",
       "      <td>0</td>\n",
       "      <td>0</td>\n",
       "      <td>14.429000</td>\n",
       "      <td>63</td>\n",
       "      <td>29</td>\n",
       "      <td>1</td>\n",
       "    </tr>\n",
       "  </tbody>\n",
       "</table>\n",
       "</div>"
      ],
      "text/plain": [
       "   Hospt  Treat  Outcome        Time  AcuteT  Age  Gender\n",
       "0      1      0        1   36.143002     211   33       1\n",
       "1      1      1        0  105.142998     176   49       1\n",
       "2      1      1        0   74.570999     191   50       1\n",
       "3      1      0        1   49.714001     206   29       2\n",
       "4      1      0        0   14.429000      63   29       1"
      ]
     },
     "execution_count": 4,
     "metadata": {},
     "output_type": "execute_result"
    }
   ],
   "source": [
    "de.head()"
   ]
  },
  {
   "cell_type": "markdown",
   "metadata": {},
   "source": [
    "    ### Passo 3 - Ajustar os dados\n",
    "    \n",
    "Bom, olhando para os dados e revendo a documentação de cada variável informada lá no início do problema decido realizar algumas \"adaptações\" para melhorar a visualização. \n",
    "A coluna Hospt está ok pois se trata de um ID;\n",
    "A coluna Treat vou transformar seus valores em texto.\n",
    "Para isso, crio uma função de transformação que receberá o valor inteiro e devolverá o nome do tratamento:"
   ]
  },
  {
   "cell_type": "code",
   "execution_count": 5,
   "metadata": {
    "collapsed": true
   },
   "outputs": [],
   "source": [
    "# Define recode_treat()\n",
    "def recode_treat(treat_value):    \n",
    "\n",
    "    # Return 'Lithium' if treat_value is 0    \n",
    "    if treat_value == 0:        \n",
    "            return 'Lithium'        \n",
    "\n",
    "    # Return 'Imipramine' if treat_value is 1    \n",
    "    elif treat_value == 1:        \n",
    "        return 'Imipramine'            \n",
    "\n",
    "    # Return 'Placebo' if treat_value is 2    \n",
    "    elif treat_value == 2:        \n",
    "        return 'Placebo'            \n",
    "\n",
    "    # Return np.nan        \n",
    "    else:        \n",
    "        return np.nan"
   ]
  },
  {
   "cell_type": "markdown",
   "metadata": {},
   "source": [
    "Agora basta aplicá-la à coluna Treat:"
   ]
  },
  {
   "cell_type": "code",
   "execution_count": 6,
   "metadata": {
    "collapsed": true
   },
   "outputs": [],
   "source": [
    "de['Treat'] = de.Treat.apply(recode_treat)"
   ]
  },
  {
   "cell_type": "markdown",
   "metadata": {},
   "source": [
    "Vamos conferir o resultado:"
   ]
  },
  {
   "cell_type": "code",
   "execution_count": 7,
   "metadata": {
    "collapsed": false
   },
   "outputs": [
    {
     "data": {
      "text/html": [
       "<div>\n",
       "<table border=\"1\" class=\"dataframe\">\n",
       "  <thead>\n",
       "    <tr style=\"text-align: right;\">\n",
       "      <th></th>\n",
       "      <th>Hospt</th>\n",
       "      <th>Treat</th>\n",
       "      <th>Outcome</th>\n",
       "      <th>Time</th>\n",
       "      <th>AcuteT</th>\n",
       "      <th>Age</th>\n",
       "      <th>Gender</th>\n",
       "    </tr>\n",
       "  </thead>\n",
       "  <tbody>\n",
       "    <tr>\n",
       "      <th>0</th>\n",
       "      <td>1</td>\n",
       "      <td>Lithium</td>\n",
       "      <td>1</td>\n",
       "      <td>36.143002</td>\n",
       "      <td>211</td>\n",
       "      <td>33</td>\n",
       "      <td>1</td>\n",
       "    </tr>\n",
       "    <tr>\n",
       "      <th>1</th>\n",
       "      <td>1</td>\n",
       "      <td>Imipramine</td>\n",
       "      <td>0</td>\n",
       "      <td>105.142998</td>\n",
       "      <td>176</td>\n",
       "      <td>49</td>\n",
       "      <td>1</td>\n",
       "    </tr>\n",
       "    <tr>\n",
       "      <th>2</th>\n",
       "      <td>1</td>\n",
       "      <td>Imipramine</td>\n",
       "      <td>0</td>\n",
       "      <td>74.570999</td>\n",
       "      <td>191</td>\n",
       "      <td>50</td>\n",
       "      <td>1</td>\n",
       "    </tr>\n",
       "    <tr>\n",
       "      <th>3</th>\n",
       "      <td>1</td>\n",
       "      <td>Lithium</td>\n",
       "      <td>1</td>\n",
       "      <td>49.714001</td>\n",
       "      <td>206</td>\n",
       "      <td>29</td>\n",
       "      <td>2</td>\n",
       "    </tr>\n",
       "    <tr>\n",
       "      <th>4</th>\n",
       "      <td>1</td>\n",
       "      <td>Lithium</td>\n",
       "      <td>0</td>\n",
       "      <td>14.429000</td>\n",
       "      <td>63</td>\n",
       "      <td>29</td>\n",
       "      <td>1</td>\n",
       "    </tr>\n",
       "  </tbody>\n",
       "</table>\n",
       "</div>"
      ],
      "text/plain": [
       "   Hospt       Treat  Outcome        Time  AcuteT  Age  Gender\n",
       "0      1     Lithium        1   36.143002     211   33       1\n",
       "1      1  Imipramine        0  105.142998     176   49       1\n",
       "2      1  Imipramine        0   74.570999     191   50       1\n",
       "3      1     Lithium        1   49.714001     206   29       2\n",
       "4      1     Lithium        0   14.429000      63   29       1"
      ]
     },
     "execution_count": 7,
     "metadata": {},
     "output_type": "execute_result"
    }
   ],
   "source": [
    "de.head()"
   ]
  },
  {
   "cell_type": "markdown",
   "metadata": {},
   "source": [
    "Feito! Coluna Treat agora com o nome do tratamento ao invés de indicadores.\n",
    "Faremos a mesma coisa agora com a coluna Outcome.\n",
    "Também criaremos uma função de transformação similar:"
   ]
  },
  {
   "cell_type": "code",
   "execution_count": 8,
   "metadata": {
    "collapsed": true
   },
   "outputs": [],
   "source": [
    "# Define recode_outcome()\n",
    "def recode_outcome(outcome_value):    \n",
    "\n",
    "    # Return 'Success' if outcome_value is 0    \n",
    "    if outcome_value == 0:        \n",
    "            return 'Success'        \n",
    "\n",
    "    # Return 'Failure' if outcome_value is 1    \n",
    "    elif outcome_value == 1:        \n",
    "        return 'Failure'            \n",
    "\n",
    "    # Return np.nan        \n",
    "    else:        \n",
    "        return np.nan"
   ]
  },
  {
   "cell_type": "markdown",
   "metadata": {},
   "source": [
    "Aplicamos à coluna certa:"
   ]
  },
  {
   "cell_type": "code",
   "execution_count": 9,
   "metadata": {
    "collapsed": true
   },
   "outputs": [],
   "source": [
    "de['Outcome'] = de.Outcome.apply(recode_outcome)"
   ]
  },
  {
   "cell_type": "markdown",
   "metadata": {},
   "source": [
    "conferindo..."
   ]
  },
  {
   "cell_type": "code",
   "execution_count": 10,
   "metadata": {
    "collapsed": false
   },
   "outputs": [
    {
     "data": {
      "text/html": [
       "<div>\n",
       "<table border=\"1\" class=\"dataframe\">\n",
       "  <thead>\n",
       "    <tr style=\"text-align: right;\">\n",
       "      <th></th>\n",
       "      <th>Hospt</th>\n",
       "      <th>Treat</th>\n",
       "      <th>Outcome</th>\n",
       "      <th>Time</th>\n",
       "      <th>AcuteT</th>\n",
       "      <th>Age</th>\n",
       "      <th>Gender</th>\n",
       "    </tr>\n",
       "  </thead>\n",
       "  <tbody>\n",
       "    <tr>\n",
       "      <th>0</th>\n",
       "      <td>1</td>\n",
       "      <td>Lithium</td>\n",
       "      <td>Failure</td>\n",
       "      <td>36.143002</td>\n",
       "      <td>211</td>\n",
       "      <td>33</td>\n",
       "      <td>1</td>\n",
       "    </tr>\n",
       "    <tr>\n",
       "      <th>1</th>\n",
       "      <td>1</td>\n",
       "      <td>Imipramine</td>\n",
       "      <td>Success</td>\n",
       "      <td>105.142998</td>\n",
       "      <td>176</td>\n",
       "      <td>49</td>\n",
       "      <td>1</td>\n",
       "    </tr>\n",
       "    <tr>\n",
       "      <th>2</th>\n",
       "      <td>1</td>\n",
       "      <td>Imipramine</td>\n",
       "      <td>Success</td>\n",
       "      <td>74.570999</td>\n",
       "      <td>191</td>\n",
       "      <td>50</td>\n",
       "      <td>1</td>\n",
       "    </tr>\n",
       "    <tr>\n",
       "      <th>3</th>\n",
       "      <td>1</td>\n",
       "      <td>Lithium</td>\n",
       "      <td>Failure</td>\n",
       "      <td>49.714001</td>\n",
       "      <td>206</td>\n",
       "      <td>29</td>\n",
       "      <td>2</td>\n",
       "    </tr>\n",
       "    <tr>\n",
       "      <th>4</th>\n",
       "      <td>1</td>\n",
       "      <td>Lithium</td>\n",
       "      <td>Success</td>\n",
       "      <td>14.429000</td>\n",
       "      <td>63</td>\n",
       "      <td>29</td>\n",
       "      <td>1</td>\n",
       "    </tr>\n",
       "  </tbody>\n",
       "</table>\n",
       "</div>"
      ],
      "text/plain": [
       "   Hospt       Treat  Outcome        Time  AcuteT  Age  Gender\n",
       "0      1     Lithium  Failure   36.143002     211   33       1\n",
       "1      1  Imipramine  Success  105.142998     176   49       1\n",
       "2      1  Imipramine  Success   74.570999     191   50       1\n",
       "3      1     Lithium  Failure   49.714001     206   29       2\n",
       "4      1     Lithium  Success   14.429000      63   29       1"
      ]
     },
     "execution_count": 10,
     "metadata": {},
     "output_type": "execute_result"
    }
   ],
   "source": [
    "de.head()"
   ]
  },
  {
   "cell_type": "markdown",
   "metadata": {},
   "source": [
    "Ok. Duas já foram. Agora vamos transformar a coluna Gender.\n",
    "Outra função:"
   ]
  },
  {
   "cell_type": "code",
   "execution_count": 11,
   "metadata": {
    "collapsed": true
   },
   "outputs": [],
   "source": [
    "# Define recode_sex()\n",
    "def recode_sex(sex_value):    \n",
    "\n",
    "    # Return Female if sex_value is 1    \n",
    "    if sex_value == 1:        \n",
    "            return 'Female'        \n",
    "\n",
    "    # Return Male if sex_value is 2    \n",
    "    elif sex_value == 2:        \n",
    "        return 'Male'            \n",
    "\n",
    "    # Return np.nan        \n",
    "    else:        \n",
    "        return np.nan"
   ]
  },
  {
   "cell_type": "markdown",
   "metadata": {},
   "source": [
    "aplicando..."
   ]
  },
  {
   "cell_type": "code",
   "execution_count": 12,
   "metadata": {
    "collapsed": true
   },
   "outputs": [],
   "source": [
    "de['Gender'] = de.Gender.apply(recode_sex)"
   ]
  },
  {
   "cell_type": "markdown",
   "metadata": {},
   "source": [
    "conferindo..."
   ]
  },
  {
   "cell_type": "code",
   "execution_count": 13,
   "metadata": {
    "collapsed": false
   },
   "outputs": [
    {
     "data": {
      "text/html": [
       "<div>\n",
       "<table border=\"1\" class=\"dataframe\">\n",
       "  <thead>\n",
       "    <tr style=\"text-align: right;\">\n",
       "      <th></th>\n",
       "      <th>Hospt</th>\n",
       "      <th>Treat</th>\n",
       "      <th>Outcome</th>\n",
       "      <th>Time</th>\n",
       "      <th>AcuteT</th>\n",
       "      <th>Age</th>\n",
       "      <th>Gender</th>\n",
       "    </tr>\n",
       "  </thead>\n",
       "  <tbody>\n",
       "    <tr>\n",
       "      <th>0</th>\n",
       "      <td>1</td>\n",
       "      <td>Lithium</td>\n",
       "      <td>Failure</td>\n",
       "      <td>36.143002</td>\n",
       "      <td>211</td>\n",
       "      <td>33</td>\n",
       "      <td>Female</td>\n",
       "    </tr>\n",
       "    <tr>\n",
       "      <th>1</th>\n",
       "      <td>1</td>\n",
       "      <td>Imipramine</td>\n",
       "      <td>Success</td>\n",
       "      <td>105.142998</td>\n",
       "      <td>176</td>\n",
       "      <td>49</td>\n",
       "      <td>Female</td>\n",
       "    </tr>\n",
       "    <tr>\n",
       "      <th>2</th>\n",
       "      <td>1</td>\n",
       "      <td>Imipramine</td>\n",
       "      <td>Success</td>\n",
       "      <td>74.570999</td>\n",
       "      <td>191</td>\n",
       "      <td>50</td>\n",
       "      <td>Female</td>\n",
       "    </tr>\n",
       "    <tr>\n",
       "      <th>3</th>\n",
       "      <td>1</td>\n",
       "      <td>Lithium</td>\n",
       "      <td>Failure</td>\n",
       "      <td>49.714001</td>\n",
       "      <td>206</td>\n",
       "      <td>29</td>\n",
       "      <td>Male</td>\n",
       "    </tr>\n",
       "    <tr>\n",
       "      <th>4</th>\n",
       "      <td>1</td>\n",
       "      <td>Lithium</td>\n",
       "      <td>Success</td>\n",
       "      <td>14.429000</td>\n",
       "      <td>63</td>\n",
       "      <td>29</td>\n",
       "      <td>Female</td>\n",
       "    </tr>\n",
       "  </tbody>\n",
       "</table>\n",
       "</div>"
      ],
      "text/plain": [
       "   Hospt       Treat  Outcome        Time  AcuteT  Age  Gender\n",
       "0      1     Lithium  Failure   36.143002     211   33  Female\n",
       "1      1  Imipramine  Success  105.142998     176   49  Female\n",
       "2      1  Imipramine  Success   74.570999     191   50  Female\n",
       "3      1     Lithium  Failure   49.714001     206   29    Male\n",
       "4      1     Lithium  Success   14.429000      63   29  Female"
      ]
     },
     "execution_count": 13,
     "metadata": {},
     "output_type": "execute_result"
    }
   ],
   "source": [
    "de.head()"
   ]
  },
  {
   "cell_type": "markdown",
   "metadata": {
    "collapsed": true
   },
   "source": [
    "Vamos aproveitar o momento e já transformar o **tipo** dessas 3 colunas que alteramos para 'category' (uma prática que \n",
    "diminui o tamanho do DataFrame em memória e pode ser utilizado por bibliotecas Python de análise de dados)"
   ]
  },
  {
   "cell_type": "code",
   "execution_count": 14,
   "metadata": {
    "collapsed": true
   },
   "outputs": [],
   "source": [
    "de['Treat'] = de['Treat'].astype('category')\n",
    "de['Outcome'] = de['Outcome'].astype('category')\n",
    "de['Gender'] = de['Gender'].astype('category')"
   ]
  },
  {
   "cell_type": "code",
   "execution_count": 15,
   "metadata": {
    "collapsed": false
   },
   "outputs": [
    {
     "name": "stdout",
     "output_type": "stream",
     "text": [
      "<class 'pandas.core.frame.DataFrame'>\n",
      "RangeIndex: 109 entries, 0 to 108\n",
      "Data columns (total 7 columns):\n",
      "Hospt      109 non-null int64\n",
      "Treat      109 non-null category\n",
      "Outcome    109 non-null category\n",
      "Time       109 non-null float64\n",
      "AcuteT     109 non-null int64\n",
      "Age        109 non-null int64\n",
      "Gender     109 non-null category\n",
      "dtypes: category(3), float64(1), int64(3)\n",
      "memory usage: 3.9 KB\n"
     ]
    }
   ],
   "source": [
    "de.info()"
   ]
  },
  {
   "cell_type": "markdown",
   "metadata": {
    "collapsed": true
   },
   "source": [
    "Ok, as 3 colunas já estão com type = 'category'.\n",
    "\n",
    "Com mais um comando simples vamos analisar informações estatísticas sobre as colunas numéricas:"
   ]
  },
  {
   "cell_type": "code",
   "execution_count": 16,
   "metadata": {
    "collapsed": false
   },
   "outputs": [
    {
     "data": {
      "text/html": [
       "<div>\n",
       "<table border=\"1\" class=\"dataframe\">\n",
       "  <thead>\n",
       "    <tr style=\"text-align: right;\">\n",
       "      <th></th>\n",
       "      <th>Hospt</th>\n",
       "      <th>Time</th>\n",
       "      <th>AcuteT</th>\n",
       "      <th>Age</th>\n",
       "    </tr>\n",
       "  </thead>\n",
       "  <tbody>\n",
       "    <tr>\n",
       "      <th>count</th>\n",
       "      <td>109.000000</td>\n",
       "      <td>109.000000</td>\n",
       "      <td>109.000000</td>\n",
       "      <td>109.000000</td>\n",
       "    </tr>\n",
       "    <tr>\n",
       "      <th>mean</th>\n",
       "      <td>3.926606</td>\n",
       "      <td>46.515082</td>\n",
       "      <td>185.669725</td>\n",
       "      <td>40.256881</td>\n",
       "    </tr>\n",
       "    <tr>\n",
       "      <th>std</th>\n",
       "      <td>1.879255</td>\n",
       "      <td>45.141643</td>\n",
       "      <td>88.618623</td>\n",
       "      <td>12.862092</td>\n",
       "    </tr>\n",
       "    <tr>\n",
       "      <th>min</th>\n",
       "      <td>1.000000</td>\n",
       "      <td>0.000000</td>\n",
       "      <td>47.000000</td>\n",
       "      <td>20.000000</td>\n",
       "    </tr>\n",
       "    <tr>\n",
       "      <th>25%</th>\n",
       "      <td>2.000000</td>\n",
       "      <td>6.286000</td>\n",
       "      <td>133.000000</td>\n",
       "      <td>29.000000</td>\n",
       "    </tr>\n",
       "    <tr>\n",
       "      <th>50%</th>\n",
       "      <td>5.000000</td>\n",
       "      <td>31.857000</td>\n",
       "      <td>165.000000</td>\n",
       "      <td>39.000000</td>\n",
       "    </tr>\n",
       "    <tr>\n",
       "      <th>75%</th>\n",
       "      <td>5.000000</td>\n",
       "      <td>78.429001</td>\n",
       "      <td>214.000000</td>\n",
       "      <td>51.000000</td>\n",
       "    </tr>\n",
       "    <tr>\n",
       "      <th>max</th>\n",
       "      <td>6.000000</td>\n",
       "      <td>206.000000</td>\n",
       "      <td>512.000000</td>\n",
       "      <td>65.000000</td>\n",
       "    </tr>\n",
       "  </tbody>\n",
       "</table>\n",
       "</div>"
      ],
      "text/plain": [
       "            Hospt        Time      AcuteT         Age\n",
       "count  109.000000  109.000000  109.000000  109.000000\n",
       "mean     3.926606   46.515082  185.669725   40.256881\n",
       "std      1.879255   45.141643   88.618623   12.862092\n",
       "min      1.000000    0.000000   47.000000   20.000000\n",
       "25%      2.000000    6.286000  133.000000   29.000000\n",
       "50%      5.000000   31.857000  165.000000   39.000000\n",
       "75%      5.000000   78.429001  214.000000   51.000000\n",
       "max      6.000000  206.000000  512.000000   65.000000"
      ]
     },
     "execution_count": 16,
     "metadata": {},
     "output_type": "execute_result"
    }
   ],
   "source": [
    "de.describe()"
   ]
  },
  {
   "cell_type": "markdown",
   "metadata": {},
   "source": [
    "Como a coluna 'Hospt' armazena ID´s de hospitais, vamos desconsiderá-la pois nenhum cálculo estatístico aqui faz sentido.\n",
    "A coluna 'AcuteT' não demonstra nenhum valor suspeito. Assim também como a coluna 'Age' com mínimo de 20 anos e máximo de 65.\n",
    "Na coluna 'Time' (Number of weeks until a recurrence (if outcome=1) or until study ended (if outcome=0)), podemos verificar que os valores mínimos e máximos fazem sentido e que não existem dados *outliers*. O valor máximo de 206 semanas está dentro do período de até 4 anos do estudo. Mas, ter um valor mínimo = 0 (zero) sempre levanta a suspeita de ser um dado \"faltante\" e não um indicador medido. "
   ]
  },
  {
   "cell_type": "markdown",
   "metadata": {},
   "source": [
    "    ### Passo 4 - Responder às questões levantadas pelo problema\n",
    "   \n",
    "Q1. Which of the drugs (if either) was more successful in preventing the recurrence of depression relative to the placebo?\n",
    "\n",
    "Para responder isso, vamos analisar os resultados (coluna 'Outcome') de cada tratamento em separado.\n",
    "Inicialmente, o Lithium. Fazemos um recorte apenas dos dados onde o tratamento é = Lithium e depois geramos um gráfico de pizza com base na coluna 'Outcome':"
   ]
  },
  {
   "cell_type": "code",
   "execution_count": 17,
   "metadata": {
    "collapsed": false
   },
   "outputs": [
    {
     "data": {
      "image/png": "[encoded data removed]",
      "text/plain": [
       "<matplotlib.figure.Figure at 0xb1b2ba8>"
      ]
     },
     "metadata": {},
     "output_type": "display_data"
    }
   ],
   "source": [
    "Li = de.loc[de['Treat'] == 'Lithium']\n",
    "Li['Outcome'].value_counts().plot(kind='pie', title='Lithium Treatment', autopct='%1.1f%%', \n",
    "             legend=True, figsize=(6, 6), colors=['r', 'c'], fontsize=15)\n",
    "plt.show()"
   ]
  },
  {
   "cell_type": "markdown",
   "metadata": {},
   "source": [
    "Vamos guardar esse resultado:"
   ]
  },
  {
   "cell_type": "code",
   "execution_count": 18,
   "metadata": {
    "collapsed": false,
    "scrolled": true
   },
   "outputs": [
    {
     "data": {
      "text/html": [
       "<div>\n",
       "<table border=\"1\" class=\"dataframe\">\n",
       "  <thead>\n",
       "    <tr style=\"text-align: right;\">\n",
       "      <th></th>\n",
       "      <th>Treatment</th>\n",
       "      <th>% Success</th>\n",
       "      <th>% Failure</th>\n",
       "    </tr>\n",
       "  </thead>\n",
       "  <tbody>\n",
       "    <tr>\n",
       "      <th>0</th>\n",
       "      <td>Lithium</td>\n",
       "      <td>37.8</td>\n",
       "      <td>62.2</td>\n",
       "    </tr>\n",
       "  </tbody>\n",
       "</table>\n",
       "</div>"
      ],
      "text/plain": [
       "  Treatment  % Success  % Failure\n",
       "0   Lithium       37.8       62.2"
      ]
     },
     "execution_count": 18,
     "metadata": {},
     "output_type": "execute_result"
    }
   ],
   "source": [
    "res = pd.DataFrame([['Lithium', 37.8, 62.2]], columns=['Treatment', '% Success', '% Failure'])\n",
    "res"
   ]
  },
  {
   "cell_type": "markdown",
   "metadata": {},
   "source": [
    "Agora com Imipramine:"
   ]
  },
  {
   "cell_type": "code",
   "execution_count": 19,
   "metadata": {
    "collapsed": false
   },
   "outputs": [
    {
     "data": {
      "image/png": "[encoded data removed]",
      "text/plain": [
       "<matplotlib.figure.Figure at 0xb208eb8>"
      ]
     },
     "metadata": {},
     "output_type": "display_data"
    }
   ],
   "source": [
    "Im = de.loc[de['Treat'] == 'Imipramine']\n",
    "Im['Outcome'].value_counts().plot(kind='pie', title='Imipramine Treatment', autopct='%1.1f%%', \n",
    "             legend=True, figsize=(6, 6), colors=['c', 'r'], fontsize=15)\n",
    "plt.show()"
   ]
  },
  {
   "cell_type": "code",
   "execution_count": 20,
   "metadata": {
    "collapsed": false,
    "scrolled": true
   },
   "outputs": [
    {
     "data": {
      "text/html": [
       "<div>\n",
       "<table border=\"1\" class=\"dataframe\">\n",
       "  <thead>\n",
       "    <tr style=\"text-align: right;\">\n",
       "      <th></th>\n",
       "      <th>Treatment</th>\n",
       "      <th>% Success</th>\n",
       "      <th>% Failure</th>\n",
       "    </tr>\n",
       "  </thead>\n",
       "  <tbody>\n",
       "    <tr>\n",
       "      <th>0</th>\n",
       "      <td>Lithium</td>\n",
       "      <td>37.8</td>\n",
       "      <td>62.2</td>\n",
       "    </tr>\n",
       "    <tr>\n",
       "      <th>1</th>\n",
       "      <td>Imipramine</td>\n",
       "      <td>71.1</td>\n",
       "      <td>28.9</td>\n",
       "    </tr>\n",
       "  </tbody>\n",
       "</table>\n",
       "</div>"
      ],
      "text/plain": [
       "    Treatment  % Success  % Failure\n",
       "0     Lithium       37.8       62.2\n",
       "1  Imipramine       71.1       28.9"
      ]
     },
     "execution_count": 20,
     "metadata": {},
     "output_type": "execute_result"
    }
   ],
   "source": [
    "res2 = pd.DataFrame([['Imipramine', 71.1, 28.9]], columns=['Treatment', '% Success', '% Failure'])\n",
    "res.append(res2, ignore_index=True)"
   ]
  },
  {
   "cell_type": "markdown",
   "metadata": {},
   "source": [
    "E com Placebo:"
   ]
  },
  {
   "cell_type": "markdown",
   "metadata": {
    "collapsed": false
   },
   "source": [
    "Pl = de.loc[de['Treat'] == 'Placebo']\n",
    "Pl['Outcome'].value_counts().plot(kind='pie', title='Placebo Treatment', autopct='%1.1f%%', \n",
    "             legend=True, figsize=(6, 6), colors=['r', 'c'], fontsize=15)\n",
    "plt.show()"
   ]
  },
  {
   "cell_type": "markdown",
   "metadata": {
    "collapsed": false,
    "scrolled": true
   },
   "source": [
    "res3 = pd.DataFrame([['Placebo', 32.4, 67.6]], columns=['Treatment', '% Success', '% Failure'])\n",
    "resultado = res.append([res2, res3], ignore_index=True)\n",
    "resultado"
   ]
  },
  {
   "cell_type": "markdown",
   "metadata": {},
   "source": [
    "Voltando à primeira pergunta:\n",
    "Q1. Which of the drugs (if either) was more successful in preventing the recurrence of depression relative to the placebo?\n",
    "A resposta é: Imipramine\n",
    "\n",
    "Indo para a segunda pergunta:\n",
    "Q2. Which of the drugs (if either) delayed the recurrence of depression longer relative to the placebo?\n"
   ]
  },
  {
   "cell_type": "markdown",
   "metadata": {},
   "source": [
    "Seguindo as perguntas do StatTutor"
   ]
  },
  {
   "cell_type": "code",
   "execution_count": 23,
   "metadata": {
    "collapsed": false
   },
   "outputs": [
    {
     "data": {
      "text/plain": [
       "Imipramine    38\n",
       "Lithium       37\n",
       "Placebo       34\n",
       "Name: Treat, dtype: int64"
      ]
     },
     "execution_count": 23,
     "metadata": {},
     "output_type": "execute_result"
    }
   ],
   "source": [
    "de['Treat'].value_counts()"
   ]
  },
  {
   "cell_type": "code",
   "execution_count": 24,
   "metadata": {
    "collapsed": false
   },
   "outputs": [
    {
     "data": {
      "image/png": "[encoded data removed]",
      "text/plain": [
       "<matplotlib.figure.Figure at 0xb43e0b8>"
      ]
     },
     "metadata": {},
     "output_type": "display_data"
    }
   ],
   "source": [
    "de.boxplot(column='AcuteT', by='Treat')\n",
    "plt.show()"
   ]
  },
  {
   "cell_type": "code",
   "execution_count": 25,
   "metadata": {
    "collapsed": false,
    "scrolled": true
   },
   "outputs": [
    {
     "data": {
      "text/html": [
       "<div>\n",
       "<table border=\"1\" class=\"dataframe\">\n",
       "  <thead>\n",
       "    <tr style=\"text-align: right;\">\n",
       "      <th>Treat</th>\n",
       "      <th>Imipramine</th>\n",
       "      <th>Lithium</th>\n",
       "      <th>Placebo</th>\n",
       "      <th>All</th>\n",
       "    </tr>\n",
       "    <tr>\n",
       "      <th>Outcome</th>\n",
       "      <th></th>\n",
       "      <th></th>\n",
       "      <th></th>\n",
       "      <th></th>\n",
       "    </tr>\n",
       "  </thead>\n",
       "  <tbody>\n",
       "    <tr>\n",
       "      <th>Failure</th>\n",
       "      <td>11</td>\n",
       "      <td>23</td>\n",
       "      <td>23</td>\n",
       "      <td>57</td>\n",
       "    </tr>\n",
       "    <tr>\n",
       "      <th>Success</th>\n",
       "      <td>27</td>\n",
       "      <td>14</td>\n",
       "      <td>11</td>\n",
       "      <td>52</td>\n",
       "    </tr>\n",
       "    <tr>\n",
       "      <th>All</th>\n",
       "      <td>38</td>\n",
       "      <td>37</td>\n",
       "      <td>34</td>\n",
       "      <td>109</td>\n",
       "    </tr>\n",
       "  </tbody>\n",
       "</table>\n",
       "</div>"
      ],
      "text/plain": [
       "Treat    Imipramine  Lithium  Placebo  All\n",
       "Outcome                                   \n",
       "Failure          11       23       23   57\n",
       "Success          27       14       11   52\n",
       "All              38       37       34  109"
      ]
     },
     "execution_count": 25,
     "metadata": {},
     "output_type": "execute_result"
    }
   ],
   "source": [
    "trat = pd.crosstab(index=de['Outcome'], \n",
    "                    columns=de['Treat'], \n",
    "                    margins=True)\n",
    "trat"
   ]
  },
  {
   "cell_type": "code",
   "execution_count": 26,
   "metadata": {
    "collapsed": false
   },
   "outputs": [
    {
     "data": {
      "text/html": [
       "<div>\n",
       "<table border=\"1\" class=\"dataframe\">\n",
       "  <thead>\n",
       "    <tr style=\"text-align: right;\">\n",
       "      <th>Treat</th>\n",
       "      <th>Imipramine</th>\n",
       "      <th>Lithium</th>\n",
       "      <th>Placebo</th>\n",
       "      <th>All</th>\n",
       "    </tr>\n",
       "    <tr>\n",
       "      <th>Outcome</th>\n",
       "      <th></th>\n",
       "      <th></th>\n",
       "      <th></th>\n",
       "      <th></th>\n",
       "    </tr>\n",
       "  </thead>\n",
       "  <tbody>\n",
       "    <tr>\n",
       "      <th>Failure</th>\n",
       "      <td>0.289474</td>\n",
       "      <td>0.621622</td>\n",
       "      <td>0.676471</td>\n",
       "      <td>0.522936</td>\n",
       "    </tr>\n",
       "    <tr>\n",
       "      <th>Success</th>\n",
       "      <td>0.710526</td>\n",
       "      <td>0.378378</td>\n",
       "      <td>0.323529</td>\n",
       "      <td>0.477064</td>\n",
       "    </tr>\n",
       "    <tr>\n",
       "      <th>All</th>\n",
       "      <td>1.000000</td>\n",
       "      <td>1.000000</td>\n",
       "      <td>1.000000</td>\n",
       "      <td>1.000000</td>\n",
       "    </tr>\n",
       "  </tbody>\n",
       "</table>\n",
       "</div>"
      ],
      "text/plain": [
       "Treat    Imipramine   Lithium   Placebo       All\n",
       "Outcome                                          \n",
       "Failure    0.289474  0.621622  0.676471  0.522936\n",
       "Success    0.710526  0.378378  0.323529  0.477064\n",
       "All        1.000000  1.000000  1.000000  1.000000"
      ]
     },
     "execution_count": 26,
     "metadata": {},
     "output_type": "execute_result"
    }
   ],
   "source": [
    "trat/trat.ix['All']"
   ]
  },
  {
   "cell_type": "code",
   "execution_count": 27,
   "metadata": {
    "collapsed": false
   },
   "outputs": [
    {
     "data": {
      "image/png": "[encoded data removed]",
      "text/plain": [
       "<matplotlib.figure.Figure at 0xb188f28>"
      ]
     },
     "metadata": {},
     "output_type": "display_data"
    }
   ],
   "source": [
    "de.boxplot(column='Time', by='Treat')\n",
    "plt.show()"
   ]
  },
  {
   "cell_type": "code",
   "execution_count": 28,
   "metadata": {
    "collapsed": false
   },
   "outputs": [
    {
     "data": {
      "text/plain": [
       "count     37.000000\n",
       "mean      37.725919\n",
       "std       40.822979\n",
       "min        0.286000\n",
       "25%        5.286000\n",
       "50%       22.000000\n",
       "75%       67.000000\n",
       "max      165.000000\n",
       "Name: Time, dtype: float64"
      ]
     },
     "execution_count": 28,
     "metadata": {},
     "output_type": "execute_result"
    }
   ],
   "source": [
    "Li['Time'].describe()"
   ]
  },
  {
   "cell_type": "code",
   "execution_count": 29,
   "metadata": {
    "collapsed": false
   },
   "outputs": [
    {
     "data": {
      "text/plain": [
       "count     38.000000\n",
       "mean      63.063868\n",
       "std       49.485291\n",
       "min        0.571000\n",
       "25%       23.000000\n",
       "50%       70.714001\n",
       "75%      101.500000\n",
       "max      206.000000\n",
       "Name: Time, dtype: float64"
      ]
     },
     "execution_count": 29,
     "metadata": {},
     "output_type": "execute_result"
    }
   ],
   "source": [
    "Im['Time'].describe()"
   ]
  },
  {
   "cell_type": "code",
   "execution_count": 30,
   "metadata": {
    "collapsed": false
   },
   "outputs": [
    {
     "data": {
      "text/plain": [
       "count     34.000000\n",
       "mean      37.584059\n",
       "std       40.265052\n",
       "min        0.000000\n",
       "25%        5.392750\n",
       "50%       17.785999\n",
       "75%       61.714001\n",
       "max      131.000000\n",
       "Name: Time, dtype: float64"
      ]
     },
     "execution_count": 30,
     "metadata": {},
     "output_type": "execute_result"
    }
   ],
   "source": [
    "Pl['Time'].describe()"
   ]
  },
  {
   "cell_type": "markdown",
   "metadata": {},
   "source": [
    "In this exercise we assessed the effectiveness of Lithium and Imipramine as treatments for depression. The two measures of effectiveness were whether or not recurrence of depression occurred, and the time until recurrence of depression. Using both measures we found that Imipramine is more effective than Lithium. More specifically, patients who were treated with Imipramine were less likely to have a recurrence of depression, and if they did, it took longer for recurrence to occur compared to patients who were treated with Lithium.\n",
    "\n",
    "The results we found also called into question the effectiveness of Lithium since the patients who were treated with it did not display any substantial differences compared to patients who did not receive any treatment, both in terms of an occurrence of depression, and in terms of the time until a recurrence."
   ]
  },
  {
   "cell_type": "code",
   "execution_count": 31,
   "metadata": {
    "collapsed": false
   },
   "outputs": [
    {
     "data": {
      "image/png": "[encoded data removed]",
      "text/plain": [
       "<matplotlib.figure.Figure at 0xc6fe400>"
      ]
     },
     "metadata": {},
     "output_type": "display_data"
    }
   ],
   "source": [
    "de.boxplot(column='Age', by='Treat')\n",
    "plt.show()"
   ]
  },
  {
   "cell_type": "code",
   "execution_count": 32,
   "metadata": {
    "collapsed": false,
    "scrolled": true
   },
   "outputs": [
    {
     "data": {
      "image/png": "[encoded data removed]",
      "text/plain": [
       "<matplotlib.figure.Figure at 0xc5f6da0>"
      ]
     },
     "metadata": {},
     "output_type": "display_data"
    }
   ],
   "source": [
    "de.boxplot(column='AcuteT', by='Treat')\n",
    "plt.show()"
   ]
  },
  {
   "cell_type": "code",
   "execution_count": 33,
   "metadata": {
    "collapsed": false
   },
   "outputs": [
    {
     "data": {
      "text/html": [
       "<div>\n",
       "<table border=\"1\" class=\"dataframe\">\n",
       "  <thead>\n",
       "    <tr style=\"text-align: right;\">\n",
       "      <th>Treat</th>\n",
       "      <th>Imipramine</th>\n",
       "      <th>Lithium</th>\n",
       "      <th>Placebo</th>\n",
       "      <th>All</th>\n",
       "    </tr>\n",
       "    <tr>\n",
       "      <th>Gender</th>\n",
       "      <th></th>\n",
       "      <th></th>\n",
       "      <th></th>\n",
       "      <th></th>\n",
       "    </tr>\n",
       "  </thead>\n",
       "  <tbody>\n",
       "    <tr>\n",
       "      <th>Female</th>\n",
       "      <td>0.657895</td>\n",
       "      <td>0.675676</td>\n",
       "      <td>0.617647</td>\n",
       "      <td>0.651376</td>\n",
       "    </tr>\n",
       "    <tr>\n",
       "      <th>Male</th>\n",
       "      <td>0.342105</td>\n",
       "      <td>0.324324</td>\n",
       "      <td>0.382353</td>\n",
       "      <td>0.348624</td>\n",
       "    </tr>\n",
       "    <tr>\n",
       "      <th>All</th>\n",
       "      <td>1.000000</td>\n",
       "      <td>1.000000</td>\n",
       "      <td>1.000000</td>\n",
       "      <td>1.000000</td>\n",
       "    </tr>\n",
       "  </tbody>\n",
       "</table>\n",
       "</div>"
      ],
      "text/plain": [
       "Treat   Imipramine   Lithium   Placebo       All\n",
       "Gender                                          \n",
       "Female    0.657895  0.675676  0.617647  0.651376\n",
       "Male      0.342105  0.324324  0.382353  0.348624\n",
       "All       1.000000  1.000000  1.000000  1.000000"
      ]
     },
     "execution_count": 33,
     "metadata": {},
     "output_type": "execute_result"
    }
   ],
   "source": [
    "trat = pd.crosstab(index=de['Gender'], \n",
    "                    columns=de['Treat'], \n",
    "                    margins=True)\n",
    "trat/trat.ix['All']"
   ]
  },
  {
   "cell_type": "code",
   "execution_count": 34,
   "metadata": {
    "collapsed": false
   },
   "outputs": [
    {
     "data": {
      "text/html": [
       "<div>\n",
       "<table border=\"1\" class=\"dataframe\">\n",
       "  <thead>\n",
       "    <tr style=\"text-align: right;\">\n",
       "      <th>Treat</th>\n",
       "      <th>Imipramine</th>\n",
       "      <th>Lithium</th>\n",
       "      <th>Placebo</th>\n",
       "      <th>All</th>\n",
       "    </tr>\n",
       "    <tr>\n",
       "      <th>Gender</th>\n",
       "      <th></th>\n",
       "      <th></th>\n",
       "      <th></th>\n",
       "      <th></th>\n",
       "    </tr>\n",
       "  </thead>\n",
       "  <tbody>\n",
       "    <tr>\n",
       "      <th>Female</th>\n",
       "      <td>0.657895</td>\n",
       "      <td>0.675676</td>\n",
       "      <td>0.617647</td>\n",
       "      <td>0.651376</td>\n",
       "    </tr>\n",
       "    <tr>\n",
       "      <th>Male</th>\n",
       "      <td>0.342105</td>\n",
       "      <td>0.324324</td>\n",
       "      <td>0.382353</td>\n",
       "      <td>0.348624</td>\n",
       "    </tr>\n",
       "    <tr>\n",
       "      <th>All</th>\n",
       "      <td>1.000000</td>\n",
       "      <td>1.000000</td>\n",
       "      <td>1.000000</td>\n",
       "      <td>1.000000</td>\n",
       "    </tr>\n",
       "  </tbody>\n",
       "</table>\n",
       "</div>"
      ],
      "text/plain": [
       "Treat   Imipramine   Lithium   Placebo       All\n",
       "Gender                                          \n",
       "Female    0.657895  0.675676  0.617647  0.651376\n",
       "Male      0.342105  0.324324  0.382353  0.348624\n",
       "All       1.000000  1.000000  1.000000  1.000000"
      ]
     },
     "execution_count": 34,
     "metadata": {},
     "output_type": "execute_result"
    }
   ],
   "source": [
    "trat = pd.crosstab(index=de['Gender'], \n",
    "                    columns=de['Treat'], \n",
    "                    margins=True)\n",
    "trat/trat.ix['All']"
   ]
  },
  {
   "cell_type": "code",
   "execution_count": 35,
   "metadata": {
    "collapsed": false
   },
   "outputs": [
    {
     "data": {
      "image/png": "[encoded data removed]",
      "text/plain": [
       "<matplotlib.figure.Figure at 0x5309940>"
      ]
     },
     "metadata": {},
     "output_type": "display_data"
    }
   ],
   "source": [
    "defe = de.loc[de['Gender'] == 'Female']\n",
    "dema = de.loc[de['Gender'] == 'Male']\n",
    "\n",
    "Life = defe.loc[defe['Treat'] == 'Lithium']\n",
    "Life['Outcome'].value_counts().plot(kind='pie', title='Female Lithium Treatment', autopct='%1.1f%%', \n",
    "             legend=True, figsize=(6, 6), colors=['r', 'c'], fontsize=15)\n",
    "plt.show()"
   ]
  },
  {
   "cell_type": "code",
   "execution_count": 36,
   "metadata": {
    "collapsed": false
   },
   "outputs": [
    {
     "data": {
      "image/png": "[encoded data removed]",
      "text/plain": [
       "<matplotlib.figure.Figure at 0xc821390>"
      ]
     },
     "metadata": {},
     "output_type": "display_data"
    }
   ],
   "source": [
    "Lima = dema.loc[dema['Treat'] == 'Lithium']\n",
    "Lima['Outcome'].value_counts().plot(kind='pie', title='Male Lithium Treatment', autopct='%1.1f%%', \n",
    "             legend=True, figsize=(6, 6), colors=['r', 'c'], fontsize=15)\n",
    "plt.show()"
   ]
  },
  {
   "cell_type": "code",
   "execution_count": 37,
   "metadata": {
    "collapsed": false
   },
   "outputs": [
    {
     "data": {
      "image/png": "[encoded data removed]",
      "text/plain": [
       "<matplotlib.figure.Figure at 0xc63acc0>"
      ]
     },
     "metadata": {},
     "output_type": "display_data"
    }
   ],
   "source": [
    "Imfe = defe.loc[defe['Treat'] == 'Imipramine']\n",
    "Imfe['Outcome'].value_counts().plot(kind='pie', title='Female Imipramine Treatment', autopct='%1.1f%%', \n",
    "             legend=True, figsize=(6, 6), colors=['c', 'r'], fontsize=15)\n",
    "plt.show()"
   ]
  },
  {
   "cell_type": "code",
   "execution_count": 38,
   "metadata": {
    "collapsed": false
   },
   "outputs": [
    {
     "data": {
      "image/png": "[encoded data removed]",
      "text/plain": [
       "<matplotlib.figure.Figure at 0xc509dd8>"
      ]
     },
     "metadata": {},
     "output_type": "display_data"
    }
   ],
   "source": [
    "Imma = dema.loc[dema['Treat'] == 'Imipramine']\n",
    "Imma['Outcome'].value_counts().plot(kind='pie', title='Male Imipramine Treatment', autopct='%1.1f%%', \n",
    "             legend=True, figsize=(6, 6), colors=['c', 'r'], fontsize=15)\n",
    "plt.show()"
   ]
  },
  {
   "cell_type": "code",
   "execution_count": 39,
   "metadata": {
    "collapsed": false
   },
   "outputs": [
    {
     "data": {
      "image/png": "[encoded data removed]",
      "text/plain": [
       "<matplotlib.figure.Figure at 0xb2082e8>"
      ]
     },
     "metadata": {},
     "output_type": "display_data"
    }
   ],
   "source": [
    "Plfe = defe.loc[defe['Treat'] == 'Placebo']\n",
    "Plfe['Outcome'].value_counts().plot(kind='pie', title='Female Placebo Treatment', autopct='%1.1f%%', \n",
    "             legend=True, figsize=(6, 6), colors=['r', 'c'], fontsize=15)\n",
    "plt.show()"
   ]
  },
  {
   "cell_type": "code",
   "execution_count": 40,
   "metadata": {
    "collapsed": false
   },
   "outputs": [
    {
     "data": {
      "image/png": "[encoded data removed]",
      "text/plain": [
       "<matplotlib.figure.Figure at 0xc504ac8>"
      ]
     },
     "metadata": {},
     "output_type": "display_data"
    }
   ],
   "source": [
    "Plma = dema.loc[dema['Treat'] == 'Placebo']\n",
    "Plma['Outcome'].value_counts().plot(kind='pie', title='Male Placebo Treatment', autopct='%1.1f%%', \n",
    "             legend=True, figsize=(6, 6), colors=['r', 'c'], fontsize=15)\n",
    "plt.show()"
   ]
  },
  {
   "cell_type": "code",
   "execution_count": 41,
   "metadata": {
    "collapsed": false
   },
   "outputs": [
    {
     "data": {
      "image/png": "[encoded data removed]",
      "text/plain": [
       "<matplotlib.figure.Figure at 0xc4f5278>"
      ]
     },
     "metadata": {},
     "output_type": "display_data"
    }
   ],
   "source": [
    "defe.boxplot(column='Time', by='Treat')\n",
    "plt.show()"
   ]
  },
  {
   "cell_type": "code",
   "execution_count": 42,
   "metadata": {
    "collapsed": false
   },
   "outputs": [
    {
     "data": {
      "image/png": "[encoded data removed]",
      "text/plain": [
       "<matplotlib.figure.Figure at 0xc500198>"
      ]
     },
     "metadata": {},
     "output_type": "display_data"
    }
   ],
   "source": [
    "dema.boxplot(column='Time', by='Treat')\n",
    "plt.show()"
   ]
  },
  {
   "cell_type": "code",
   "execution_count": null,
   "metadata": {
    "collapsed": true
   },
   "outputs": [],
   "source": []
  }
 ],
 "metadata": {
  "kernelspec": {
   "display_name": "Python 3",
   "language": "python",
   "name": "python3"
  },
  "language_info": {
   "codemirror_mode": {
    "name": "ipython",
    "version": 3
   },
   "file_extension": ".py",
   "mimetype": "text/x-python",
   "name": "python",
   "nbconvert_exporter": "python",
   "pygments_lexer": "ipython3",
   "version": "3.6.0"
  }
 },
 "nbformat": 4,
 "nbformat_minor": 2
}
